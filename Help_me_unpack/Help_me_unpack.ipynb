{
 "cells": [
  {
   "cell_type": "code",
   "execution_count": 1,
   "id": "d54b8d5b-7931-4b30-a793-51e5360be588",
   "metadata": {},
   "outputs": [],
   "source": [
    "bytes = {\"bytes\": \"ZFhAgmNLrbX74gAA2kbgQ6v+SMoqf2dAQGd/KspI/qs=\"}"
   ]
  },
  {
   "cell_type": "code",
   "execution_count": null,
   "id": "638e0e8f-93f1-46f5-98ba-b8629680da32",
   "metadata": {},
   "outputs": [],
   "source": []
  }
 ],
 "metadata": {
  "kernelspec": {
   "display_name": "Python 3 (ipykernel)",
   "language": "python",
   "name": "python3"
  },
  "language_info": {
   "codemirror_mode": {
    "name": "ipython",
    "version": 3
   },
   "file_extension": ".py",
   "mimetype": "text/x-python",
   "name": "python",
   "nbconvert_exporter": "python",
   "pygments_lexer": "ipython3",
   "version": "3.10.13"
  }
 },
 "nbformat": 4,
 "nbformat_minor": 5
}
